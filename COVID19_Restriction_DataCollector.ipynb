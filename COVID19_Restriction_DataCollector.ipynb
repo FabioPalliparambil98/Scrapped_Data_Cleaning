{
 "cells": [
  {
   "cell_type": "code",
   "execution_count": 1,
   "metadata": {},
   "outputs": [],
   "source": [
    "import json\n",
    "import pandas as pd\n",
    "import csv\n",
    "import re\n",
    "import string\n",
    "import os\n",
    "import time\n",
    "from twitter_credentials import *\n",
    "from datetime import datetime\n",
    "\n",
    "# Libraries for Twitter API\n",
    "import tweepy\n",
    "from tweepy import OAuthHandler\n",
    "from tweepy.streaming import StreamListener"
   ]
  },
  {
   "cell_type": "code",
   "execution_count": 2,
   "metadata": {},
   "outputs": [],
   "source": [
    "# Accessing the credentials from twitterapi.py\n",
    "accesstoken = access_token\n",
    "accesstokensecret = access_secret_token\n",
    "apikey = api_key\n",
    "apisecretkey = api_security_key\n",
    "\n",
    "# Connecting to Twitter API\n",
    "auth = OAuthHandler(apikey, apisecretkey)\n",
    "auth.set_access_token(accesstoken, accesstokensecret)\n",
    "api = tweepy.API(auth)"
   ]
  },
  {
   "cell_type": "code",
   "execution_count": null,
   "metadata": {},
   "outputs": [],
   "source": [
    "def tweetcollector(search_words, date_since, numTweets, numRuns):\n",
    "    \n",
    "    # Define a pandas dataframe to store the data\n",
    "    df_tweets = pd.DataFrame(columns = ['username', 'acctdesc', 'location', 'following',\n",
    "                                        'followers', 'totaltweets', 'usercreatedts', 'tweetcreatedts',\n",
    "                                        'retweetcount', 'text', 'hashtags']\n",
    "                                )\n",
    "\n",
    "    for i in range(0, numRuns):\n",
    "        # We will time how long it takes to scrape tweets for each run:\n",
    "        \n",
    "        tweets = tweepy.Cursor(api.search, q=search_words + \" -filter:retweets\", lang=\"en\", since=date_since, tweet_mode='extended').items(numTweets)\n",
    "\n",
    "        tweet_list = [tweet for tweet in tweets]\n",
    "\n",
    "        noTweets = 0\n",
    "        for tweet in tweet_list:\n",
    "\n",
    "                    username = tweet.user.screen_name\n",
    "                    acctdesc = tweet.user.description\n",
    "                    location = tweet.user.location\n",
    "                    following = tweet.user.friends_count\n",
    "                    followers = tweet.user.followers_count\n",
    "                    totaltweets = tweet.user.statuses_count\n",
    "                    usercreatedts = tweet.user.created_at\n",
    "                    tweetcreatedts = tweet.created_at\n",
    "                    retweetcount = tweet.retweet_count\n",
    "                    hashtags = tweet.entities['hashtags']\n",
    "                    \n",
    "                    try:\n",
    "                        # Check wether the tweet was re-tweeted.\n",
    "                        \n",
    "                        text = tweet.retweeted_status.full_text\n",
    "                        \n",
    "                    except AttributeError:\n",
    "                        \n",
    "                        # if it Not a Retweeted tweet run the following code \n",
    "                        \n",
    "                        text = tweet.full_text\n",
    "\n",
    "                        the_tweet = [username, acctdesc, location, following, followers, totaltweets,\n",
    "                                     usercreatedts, tweetcreatedts, retweetcount, text, hashtags]\n",
    "\n",
    "                        df_tweets.loc[len(df_tweets)] = the_tweet\n",
    "\n",
    "                        noTweets += 1\n",
    "                        \n",
    "                        #15 minute sleep time because of twitter requests limitation.\n",
    "                        time.sleep(920) \n",
    "                        \n",
    "                        tot_csv_timesamp = datetime.today().strftime('%Y%m%d_%H%M%S')\n",
    "                        \n",
    "                        # Defining a path for storing the collected tweet\n",
    "                        path = os.getcwd()\n",
    "                        filename = path + '/COVIDRestriction/' + tot_csv_timesamp + 'covidrestriction.csv'\n",
    "                        \n",
    "                        # The pandas dataframe is converted into CSV fil Format.\n",
    "                        df_tweets.to_csv(filename, index = False)"
   ]
  },
  {
   "cell_type": "code",
   "execution_count": null,
   "metadata": {},
   "outputs": [],
   "source": [
    "# Initialise the variable for the function created\n",
    "\n",
    "search_words = \"COVID19 Restrictions OR Masks OR Social Distancing OR Lockdown\"\n",
    "date_since = \"2019-11-03\"\n",
    "NumberOfTweets = 100\n",
    "NumberOfRuns = 6\n",
    "\n",
    "# Call the function tweetcollector\n",
    "tweetcollector(search_words, date_since, NumberOfTweets, NumberOfRuns)"
   ]
  },
  {
   "cell_type": "code",
   "execution_count": null,
   "metadata": {},
   "outputs": [],
   "source": []
  }
 ],
 "metadata": {
  "kernelspec": {
   "display_name": "Python 3",
   "language": "python",
   "name": "python3"
  },
  "language_info": {
   "codemirror_mode": {
    "name": "ipython",
    "version": 3
   },
   "file_extension": ".py",
   "mimetype": "text/x-python",
   "name": "python",
   "nbconvert_exporter": "python",
   "pygments_lexer": "ipython3",
   "version": "3.7.9"
  }
 },
 "nbformat": 4,
 "nbformat_minor": 4
}
